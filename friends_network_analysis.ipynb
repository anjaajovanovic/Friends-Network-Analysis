{
 "cells": [
  {
   "cell_type": "markdown",
   "id": "13255556-0db5-423b-98b6-ed63f76637f1",
   "metadata": {},
   "source": [
    "<h3>Data preparation</h3>"
   ]
  },
  {
   "cell_type": "code",
   "execution_count": 2,
   "id": "b618e416-871f-4508-8b84-4a2d4a0eb82c",
   "metadata": {},
   "outputs": [],
   "source": [
    "from bs4 import BeautifulSoup\n",
    "import requests"
   ]
  },
  {
   "cell_type": "code",
   "execution_count": 42,
   "id": "b2e47e25-1345-4df1-b4a6-b8d2d55582dd",
   "metadata": {},
   "outputs": [],
   "source": [
    "# URL of the Friends episode transcript\n",
    "url = \"https://fangj.github.io/friends/season/0101.html\" \n",
    "\n",
    "# Send an HTTP GET request to fetch the webpage content\n",
    "response = requests.get(url)\n",
    "\n",
    "# Parse the HTML content using BeautifulSoup\n",
    "soup = BeautifulSoup(response.text, \"html.parser\") "
   ]
  },
  {
   "cell_type": "code",
   "execution_count": 43,
   "id": "c4aaa167-0525-4094-b097-273f464ed430",
   "metadata": {},
   "outputs": [
    {
     "data": {
      "text/plain": [
       "defaultdict(int,\n",
       "            {('Monica', 'Joey'): 9,\n",
       "             ('Joey', 'Chandler'): 12,\n",
       "             ('Chandler', 'Phoebe'): 1,\n",
       "             ('Phoebe', 'Monica'): 7,\n",
       "             ('Monica', 'Chandler'): 4,\n",
       "             ('Chandler', 'Joey'): 12,\n",
       "             ('Joey', 'Phoebe'): 3,\n",
       "             ('Phoebe', 'Chandler'): 2,\n",
       "             ('Chandler', 'Monica'): 7,\n",
       "             ('Chandler', 'Ross'): 6,\n",
       "             ('Ross', 'Joey'): 9,\n",
       "             ('Joey', 'Monica'): 9,\n",
       "             ('Monica', 'Ross'): 14,\n",
       "             ('Ross', 'Chandler'): 7,\n",
       "             ('Ross', 'Phoebe'): 4,\n",
       "             ('Phoebe', 'Ross'): 4,\n",
       "             ('Ross', 'Monica'): 10,\n",
       "             ('Joey', 'Ross'): 7,\n",
       "             ('Monica', 'Rachel'): 20,\n",
       "             ('Rachel', 'Monica'): 18,\n",
       "             ('Rachel', 'Ross'): 16,\n",
       "             ('Ross', 'Rachel'): 13,\n",
       "             ('Rachel', 'Phoebe'): 4,\n",
       "             ('Joey', 'Rachel'): 5,\n",
       "             ('Monica', 'Phoebe'): 5,\n",
       "             ('Phoebe', 'Rachel'): 2,\n",
       "             ('Chandler', 'Paul'): 3,\n",
       "             ('Paul', 'Monica'): 14,\n",
       "             ('Phoebe', 'Joey'): 1,\n",
       "             ('Joey', 'Paul'): 1,\n",
       "             ('Paul', 'Joey'): 3,\n",
       "             ('Chandler', 'Rachel'): 6,\n",
       "             ('Monica', 'Paul'): 12,\n",
       "             ('Rachel', 'Chandler'): 7,\n",
       "             ('Rachel', 'Joey'): 1,\n",
       "             ('Rachel', 'Frannie'): 1,\n",
       "             ('Frannie', 'Monica'): 4,\n",
       "             ('Monica', 'Frannie'): 4,\n",
       "             ('Frannie', 'Joey'): 1})"
      ]
     },
     "execution_count": 43,
     "metadata": {},
     "output_type": "execute_result"
    }
   ],
   "source": [
    "from collections import defaultdict\n",
    "\n",
    "# A default dict is used to store interaction counts. The defaylt value is 0 for missing keys\n",
    "interactions = defaultdict(int)\n",
    "\n",
    "previous_speaker = None\n",
    "speaker = None\n",
    "\n",
    "# Function to split a string with multiple speakers (e.g. \"Monica and Rachel\")\n",
    "def split_speaker(speaker):\n",
    "    return [s.strip() for s in speaker.split(\" and \")]\n",
    "\n",
    "# Iterate over all <p> tags\n",
    "for p in soup.find_all(\"p\"):\n",
    "    # Look for a bold tag to identify the speaker\n",
    "    bold_tag = p.find(\"b\")\n",
    "    if bold_tag:\n",
    "        speaker = bold_tag.get_text(strip=True).replace(\":\", \"\")\n",
    "        # Split the speaker string if there's more than one\n",
    "        speakers = split_speaker(speaker)\n",
    "    else:\n",
    "        speakers = []\n",
    "\n",
    "    if previous_speaker and speakers:\n",
    "        for s in speakers:\n",
    "            # Check if the speaker is not a special case\n",
    "            if previous_speaker not in [\"All\", \"Closing Credits\", \"Commercial Break\", s] and s not in [\"All\", \"Closing Credits\", \"Commercial Break\"]:\n",
    "                interactions[(previous_speaker, s)] += 1\n",
    "\n",
    "    previous_speaker = speakers[-1] if speakers else previous_speaker\n",
    "\n",
    "interactions"
   ]
  },
  {
   "cell_type": "code",
   "execution_count": 45,
   "id": "0079fd5e-7c02-47cb-8fef-1ba8533e7019",
   "metadata": {},
   "outputs": [
    {
     "data": {
      "text/plain": [
       "defaultdict(int,\n",
       "            {('Joey', 'Monica'): 18,\n",
       "             ('Chandler', 'Joey'): 24,\n",
       "             ('Chandler', 'Phoebe'): 3,\n",
       "             ('Monica', 'Phoebe'): 12,\n",
       "             ('Chandler', 'Monica'): 11,\n",
       "             ('Joey', 'Phoebe'): 4,\n",
       "             ('Chandler', 'Ross'): 13,\n",
       "             ('Joey', 'Ross'): 16,\n",
       "             ('Monica', 'Ross'): 24,\n",
       "             ('Phoebe', 'Ross'): 8,\n",
       "             ('Monica', 'Rachel'): 38,\n",
       "             ('Rachel', 'Ross'): 29,\n",
       "             ('Phoebe', 'Rachel'): 6,\n",
       "             ('Joey', 'Rachel'): 6,\n",
       "             ('Chandler', 'Paul'): 3,\n",
       "             ('Monica', 'Paul'): 26,\n",
       "             ('Joey', 'Paul'): 4,\n",
       "             ('Chandler', 'Rachel'): 13,\n",
       "             ('Frannie', 'Rachel'): 1,\n",
       "             ('Frannie', 'Monica'): 8,\n",
       "             ('Frannie', 'Joey'): 1})"
      ]
     },
     "execution_count": 45,
     "metadata": {},
     "output_type": "execute_result"
    }
   ],
   "source": [
    "# New dictonary that contains interaction counts, with speaker pairs treated as unoriented\n",
    "unoriented_interactions = defaultdict(int)\n",
    "\n",
    "for (s1, s2), count in interactions.items():\n",
    "    # Sort the tuple of speakers to ensure the order of speakers does not matter\n",
    "    key = tuple(sorted([s1, s2]))\n",
    "    unoriented_interactions[key] += count\n",
    "\n",
    "unoriented_interactions"
   ]
  },
  {
   "cell_type": "code",
   "execution_count": 46,
   "id": "a8c2f667-a396-4120-a567-079458f1a55c",
   "metadata": {},
   "outputs": [],
   "source": [
    "# Store dictionary as csv file\n",
    "import csv\n",
    "\n",
    "with open(\"interactions.csv\", \"w\", newline=\"\", encoding=\"utf-8\") as f:\n",
    "    writer = csv.writer(f)\n",
    "    writer.writerow([\"Character1\", \"Character2\", \"InteractionCount\"]) # Header\n",
    "    for (char1, char2), count in unoriented_interactions.items():\n",
    "        writer.writerow([char1, char2, count])"
   ]
  },
  {
   "cell_type": "code",
   "execution_count": null,
   "id": "f769ae95-e79c-4d8d-94b8-021d00abe793",
   "metadata": {},
   "outputs": [],
   "source": []
  }
 ],
 "metadata": {
  "kernelspec": {
   "display_name": "Python 3 (ipykernel)",
   "language": "python",
   "name": "python3"
  },
  "language_info": {
   "codemirror_mode": {
    "name": "ipython",
    "version": 3
   },
   "file_extension": ".py",
   "mimetype": "text/x-python",
   "name": "python",
   "nbconvert_exporter": "python",
   "pygments_lexer": "ipython3",
   "version": "3.12.0"
  }
 },
 "nbformat": 4,
 "nbformat_minor": 5
}
